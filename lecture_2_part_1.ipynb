{
 "cells": [
  {
   "cell_type": "markdown",
   "source": [
    "Section 0: Preamble\n",
    "===================\n",
    "\n",
    "This project uses the astrophysical phenomena of Strong Gravitational Lensing to illustrate multi-level model\n",
    "composition and fitting with **PyAutoFit**.\n",
    "\n",
    "A strong gravitational lens is a system where two (or more) galaxies align perfectly down our line of sight from Earth\n",
    "such that the foreground galaxy's mass deflects the light of a background source galaxy(s).\n",
    "\n",
    "When the alignment is just right and the lens is massive enough, the background source galaxy appears multiple\n",
    "times. The schematic below shows such a system, where light-rays from the source are deflected around the lens galaxy\n",
    "to the observer following multiple distinct paths.\n",
    "\n",
    "![Schematic of Gravitational Lensing](https://raw.githubusercontent.com/Jammy2211/PyAutoLens/master/docs/overview/images/lensing/schematic.jpg)\n",
    "**Credit: F. Courbin, S. G. Djorgovski, G. Meylan, et al., Caltech / EPFL / WMKO**\n",
    "https://www.astro.caltech.edu/~george/qsolens/\n",
    "\n",
    "As an observer, we don't see the source's true appearance (e.g. as the red round blob of light). Instead, we only\n",
    "observe its light after it has been deflected and lensed by the foreground galaxies (e.g. as the two distinct\n",
    "red multiple images in the image on the left). We will of course also see the emission of the foreground\n",
    "galaxy (in blue).\n",
    "\n",
    "You can read more about gravitational lensing as the following link:\n",
    "\n",
    "https://en.wikipedia.org/wiki/Gravitational_lens\n",
    "\n",
    "__PyAutoLens__\n",
    "\n",
    "Strong gravitational lensing is the original science case that sparked the development of **PyAutoFit**, which is\n",
    "a spin off of our astronomy software **PyAutoLens** `https://github.com/Jammy2211/PyAutoLens`.\n",
    "\n",
    "We'll use **PyAutoLens** to illustrate how the tools we developed with **PyAutoFit** allowed us to\n",
    "ensure **PyAutoLens**'s code-base was extensible and easy to maintain.\n",
    "\n",
    "__Multi-Level Models__\n",
    "\n",
    "Strong lensing is a great case study for using **PyAutoFit**, due to the multi-component nature of how one composes\n",
    "a strong lens model. To model a strong lens, one needs to model the light and mass of each galaxy in the system,\n",
    "where each galaxy is a model in itself, and the galaxies are combined into one overall \"lens model\".\n",
    "\n",
    "This example project uses **PyAutoFit** to compose and fit models of a strong lens, in particular highlighting\n",
    "**PyAutoFits** multi-level model composition. I recommend you check out the following description of this feature on\n",
    "our readthedocs first, which uses this strong lensing example to give a high-level overview of multi-level models:\n",
    "\n",
    "https://pyautofit.readthedocs.io/en/latest/graphical/composition.html\n",
    "\n",
    "__Strong Lens Modeling__\n",
    "\n",
    "The models are fitted to Hubble Space Telescope imaging of a real strong lens system and will allow us to come up\n",
    "with a description of how light is deflected on its path through the Universe.\n",
    "\n",
    "This project consists of two example scripts / notebooks:\n",
    "\n",
    " 1) `section_1_intro`: An introduction to strong lensing, and the various parts of the project's source code that are\n",
    " used to represent a strong lens galaxy.\n",
    "\n",
    " 2) `section_2_multi_level_model`: Using **PyAutoFit** to model a strong lens, with a strong emphasis on the\n",
    " multi-level model API.\n",
    "\n",
    " __Imports__\n",
    "\n",
    "We first set up the imports and workspace path again.\n",
    "\n",
    "Note that import `import src as astro`. The package `src` contains all the code we need for this example Astronomy\n",
    "use case, and can be thought of as the source-code you would write to perform model-fitting via **PyAutoFit**. The\n",
    "module `src/__init__.py` performs a series of imports that are used throughout this lecture to provide convenient\n",
    "access to different parts of the source code."
   ],
   "metadata": {
    "collapsed": false
   }
  },
  {
   "cell_type": "code",
   "execution_count": null,
   "outputs": [],
   "source": [
    "%matplotlib inline\n",
    "from pyprojroot import here\n",
    "workspace_path = str(here())\n",
    "%cd $workspace_path\n",
    "print(f\"Working Directory has been set to `{workspace_path}`\")\n",
    "\n",
    "import src as astro\n",
    "\n",
    "import os\n",
    "import matplotlib.pyplot as plt\n",
    "import numpy as np\n",
    "from os import path\n",
    "\n",
    "import autofit as af"
   ],
   "metadata": {
    "collapsed": false,
    "pycharm": {
     "name": "#%%\n"
    }
   }
  },
  {
   "cell_type": "markdown",
   "source": [
    "__Section 1: Strong Lensing Overview__\n",
    "\n",
    "This introduction primarily focuses on what strong lensing is, how we define the individual model-components and fit\n",
    "a strong lens model to data. It does not make much use of **PyAutoFit**, but it does provide a clear understanding of\n",
    "the model so that **PyAutoFit**'s use in example 2 is clear.\n",
    "\n",
    "__Plot__\n",
    "\n",
    "We will plot a lot of arrays of 2D data and grids of 2D coordinates in this example, so lets make a convenience\n",
    "functions."
   ],
   "metadata": {
    "collapsed": false
   }
  },
  {
   "cell_type": "code",
   "execution_count": null,
   "outputs": [],
   "source": [
    "def plot_array(array, title=None, norm=None):\n",
    "\n",
    "    plt.imshow(array, norm=norm)\n",
    "    plt.colorbar()\n",
    "    plt.title(title)\n",
    "    plt.show()\n",
    "    plt.close()\n",
    "\n",
    "\n",
    "def plot_grid(grid, title=None):\n",
    "\n",
    "    plt.scatter(x=grid[:, :, 0], y=grid[:, :, 1], s=1)\n",
    "    plt.title(title)\n",
    "    plt.show()\n",
    "    plt.close()\n"
   ],
   "metadata": {
    "collapsed": false,
    "pycharm": {
     "name": "#%%\n"
    }
   }
  },
  {
   "cell_type": "markdown",
   "source": [
    "__Data__\n",
    "\n",
    "First, lets load and plot Hubble Space Telescope imaging data of the strong gravitational lens called SDSSJ2303+1422,\n",
    "where this data includes:\n",
    "\n",
    " 1) The image of the strong lens, which is the data we'll fit.\n",
    " 2) The noise in every pixel of this image, which will be used when evaluating the likelihood."
   ],
   "metadata": {
    "collapsed": false
   }
  },
  {
   "cell_type": "code",
   "execution_count": null,
   "outputs": [],
   "source": [
    "dataset_path = path.join(\"dataset\", \"lensing\")\n",
    "\n",
    "image = np.load(file=path.join(dataset_path, \"image.npy\"))\n",
    "noise_map = np.load(file=path.join(dataset_path, \"noise_map.npy\"))\n",
    "\n",
    "plot_array(array=image, title=\"Image of Strong Lens SDSSJ2303+1422\")\n",
    "plot_array(array=noise_map, title=\"Noise Map of Strong Lens SDSSJ2303+1422\")"
   ],
   "metadata": {
    "collapsed": false,
    "pycharm": {
     "name": "#%%\n"
    }
   }
  },
  {
   "cell_type": "markdown",
   "source": [
    "In the image of the strong lens two distinct objects can be seen:\n",
    "\n",
    " 1) A central blob of light, corresponding to the foreground lens galaxy whose mass is responsible for deflecting light.\n",
    " 2) A surrounding ring of light, which is the lensed background source.\n",
    "\n",
    "__Grid__\n",
    "\n",
    "To perform strong lensing, we need a grid of (x,y) coordinates which we map throughout the Universe as if their path\n",
    "is deflected. For this, we create a simple 2D grid of coordinates below where the origin is (0.0, 0.0) and the size of\n",
    "a pixel is 0.05, which corresponds to the resolution of our `image`.\n",
    "\n",
    "(The grid below is created using the python script `dataset/lensing/grid.py` and is simply a uniform 2D grid of\n",
    "coordinates)."
   ],
   "metadata": {
    "collapsed": false
   }
  },
  {
   "cell_type": "code",
   "execution_count": null,
   "outputs": [],
   "source": [
    "grid = np.load(file=path.join(dataset_path, \"grid.npy\"))\n",
    "\n",
    "plot_grid(\n",
    "    grid=grid,\n",
    "    title=\"Cartesian grid of (x,y) coordinates aligned with strong lens dataset\",\n",
    ")"
   ],
   "metadata": {
    "collapsed": false,
    "pycharm": {
     "name": "#%%\n"
    }
   }
  },
  {
   "cell_type": "markdown",
   "source": [
    "__Light Profiles__\n",
    "\n",
    "Our model of a strong lens must include a description of the light of each galaxy, which we call a 'light profile'.\n",
    "In the source-code of this example project, specifically the module `src/light_profiles.py` you will see there are two\n",
    "light profile classes named `LightDeVaucouleurs` and `LightExponential`.\n",
    "\n",
    "These Python classes are the model components we will use to represent each galaxy's light and they behave analogous\n",
    "to the `Gaussian` class seen previously. The input parameters of their `__init__` constructor (e.g. centre, axis_ratio,\n",
    "angle) are their model parameters that may be fitted for by a non-linear search.\n",
    "\n",
    "These classes also contain functions which create an image from the light profile if an input grid of (x,y) 2D\n",
    "coordinates are input, which we use below to create an image of a light profile."
   ],
   "metadata": {
    "collapsed": false
   }
  },
  {
   "cell_type": "code",
   "execution_count": null,
   "outputs": [],
   "source": [
    "light_profile = astro.lp.LightExponential(\n",
    "    centre=(0.01, 0.01), axis_ratio=0.7, angle=45.0, normalization=1.0, radius=2.0\n",
    ")\n",
    "light_image = light_profile.image_from_grid(grid=grid)\n",
    "\n",
    "plot_array(array=light_image, title=\"Image of an Exponential light profile.\")"
   ],
   "metadata": {
    "collapsed": false,
    "pycharm": {
     "name": "#%%\n"
    }
   }
  },
  {
   "cell_type": "markdown",
   "source": [
    "__Mass Profiles__\n",
    "\n",
    "Our model also includes the mass of the foreground lens galaxy, called a 'mass profile'. In the source-code of the\n",
    "example project, specifically the module `astro/src/mass_profiles.py` you will see there is a mass profile class named\n",
    "`MassIsothermal`. Like the light profile, this will be a model-component **PyAutoFit** fits via a non-linear search.\n",
    "\n",
    "The class also contains functions which create the 'deflections', which describes the angle that light is deflected by\n",
    "in the x and y components of its coordinates. A higher mass galaxy, which bends light more, will have higher values\n",
    "of the deflection angles plotted below:"
   ],
   "metadata": {
    "collapsed": false
   }
  },
  {
   "cell_type": "code",
   "execution_count": null,
   "outputs": [],
   "source": [
    "mass_profile = astro.mp.MassIsothermal(\n",
    "    centre=(0.01, 0.01), axis_ratio=0.7, angle=45.0, mass=0.5\n",
    ")\n",
    "mass_deflections = mass_profile.deflections_from_grid(grid=grid)\n",
    "\n",
    "plot_array(\n",
    "    array=mass_deflections[:, :, 0],\n",
    "    title=\"X-component of the deflection angles of a Isothermal mass profile.\",\n",
    ")\n",
    "plot_array(\n",
    "    array=mass_deflections[:, :, 1],\n",
    "    title=\"Y-component of the deflection angles of a Isothermal mass profile.\",\n",
    ")"
   ],
   "metadata": {
    "collapsed": false,
    "pycharm": {
     "name": "#%%\n"
    }
   }
  },
  {
   "cell_type": "markdown",
   "source": [
    "__Ray Tracing__\n",
    "\n",
    "The deflection angles describe how our (x,y) grid of coordinates are deflected by the mass of the foreground galaxy.\n",
    "We can therefore ray-trace the grid aligned with SDSSJ2303+1422 using the mass profile above and plot a grid of\n",
    "coordinates in the reference frame of before their light is gravitationally lensed:"
   ],
   "metadata": {
    "collapsed": false
   }
  },
  {
   "cell_type": "code",
   "execution_count": null,
   "outputs": [],
   "source": [
    "traced_grid = grid - mass_deflections\n",
    "\n",
    "plot_grid(grid=traced_grid, title=\"Cartesian grid of (x,y) traced coordinates.\")"
   ],
   "metadata": {
    "collapsed": false,
    "pycharm": {
     "name": "#%%\n"
    }
   }
  },
  {
   "cell_type": "markdown",
   "source": [
    "By inputting this traced grid of (x,y) coordinates into our light profile, we can create an image of the galaxy as if\n",
    "it were gravitationally lensed by the mass profile."
   ],
   "metadata": {
    "collapsed": false
   }
  },
  {
   "cell_type": "code",
   "execution_count": null,
   "outputs": [],
   "source": [
    "traced_light_image = light_profile.image_from_grid(grid=traced_grid)\n",
    "\n",
    "plot_array(\n",
    "    array=traced_light_image,\n",
    "    title=\"Image of a gravitationally lensed Exponential light profile.\",\n",
    ")"
   ],
   "metadata": {
    "collapsed": false,
    "pycharm": {
     "name": "#%%\n"
    }
   }
  },
  {
   "cell_type": "markdown",
   "source": [
    "__Galaxy__\n",
    "\n",
    "In the `src/galaxy.py` module we define the `Galaxy` class, which is a collection of light and mass profiles at an\n",
    "input redshift. For strong lens modeling, we have to use `Galaxy` objects, as the redshifts define how ray-tracing is\n",
    "performed.\n",
    "\n",
    "Below, we create two instances of the `Galaxy` class, representing the lens and source galaxies in a strong lens system."
   ],
   "metadata": {
    "collapsed": false
   }
  },
  {
   "cell_type": "code",
   "execution_count": null,
   "outputs": [],
   "source": [
    "light_profile = astro.lp.LightDeVaucouleurs(\n",
    "    centre=(0.01, 0.01), axis_ratio=0.9, angle=45.0, normalization=0.1, radius=1.0\n",
    ")\n",
    "mass_profile = astro.mp.MassIsothermal(\n",
    "    centre=(0.01, 0.01), axis_ratio=0.7, angle=45.0, mass=0.8\n",
    ")\n",
    "lens_galaxy = astro.Galaxy(\n",
    "    redshift=0.5, light_profiles=[light_profile], mass_profiles=[mass_profile]\n",
    ")\n",
    "\n",
    "light_profile = astro.lp.LightExponential(\n",
    "    centre=(0.1, 0.1), axis_ratio=0.5, angle=80.0, normalization=1.0, radius=5.0\n",
    ")\n",
    "source_galaxy = astro.Galaxy(\n",
    "    redshift=0.5, light_profiles=[light_profile], mass_profiles=[mass_profile]\n",
    ")"
   ],
   "metadata": {
    "collapsed": false,
    "pycharm": {
     "name": "#%%\n"
    }
   }
  },
  {
   "cell_type": "markdown",
   "source": [
    "A galaxy's image is the sum of its light profile images, and its deflection angles are the sum of its mass profile\n",
    "deflection angles.\n",
    "\n",
    "To illustrate this, lets plot the lens galaxy's light profile image:"
   ],
   "metadata": {
    "collapsed": false
   }
  },
  {
   "cell_type": "code",
   "execution_count": null,
   "outputs": [],
   "source": [
    "galaxy_image = lens_galaxy.image_from_grid(grid=grid)\n",
    "\n",
    "plot_array(array=galaxy_image, title=\"Image of the Lens Galaxy.\")"
   ],
   "metadata": {
    "collapsed": false,
    "pycharm": {
     "name": "#%%\n"
    }
   }
  },
  {
   "cell_type": "markdown",
   "source": [
    "__Data Fitting__\n",
    "\n",
    "We can create an overall image of the strong lens by:\n",
    "\n",
    " 1) Creating an image of the lens galaxy.\n",
    " 2) Computing the deflection angles of the lens galaxy.\n",
    " 3) Ray-tracing light to the source galaxy reference frame and using its light profile to make its image."
   ],
   "metadata": {
    "collapsed": false
   }
  },
  {
   "cell_type": "code",
   "execution_count": null,
   "outputs": [],
   "source": [
    "lens_image = lens_galaxy.image_from_grid(grid=grid)\n",
    "lens_deflections = lens_galaxy.deflections_from_grid(grid=grid)\n",
    "\n",
    "traced_grid = grid - lens_deflections\n",
    "\n",
    "source_image = source_galaxy.image_from_grid(grid=traced_grid)\n",
    "\n",
    "model_image = lens_image + source_image\n",
    "\n",
    "plot_array(array=model_image, title=\"Image of the overall Strong Lens System.\")"
   ],
   "metadata": {
    "collapsed": false,
    "pycharm": {
     "name": "#%%\n"
    }
   }
  },
  {
   "cell_type": "markdown",
   "source": [
    "By subtracting this model image from the data, we can create a 2D residual map. This is equivalent to the residual maps\n",
    "we made in the 1D Gaussian examples, except for 2D imaging data.\n",
    "\n",
    "Clearly, the random lens model we used in this example does not provide a good fit to SDSSJ2303+1422."
   ],
   "metadata": {
    "collapsed": false
   }
  },
  {
   "cell_type": "code",
   "execution_count": null,
   "outputs": [],
   "source": [
    "residual_map = image - model_image\n",
    "\n",
    "plot_array(array=residual_map, title=\"Residual Map of fit to SDSSJ2303+1422\")"
   ],
   "metadata": {
    "collapsed": false,
    "pycharm": {
     "name": "#%%\n"
    }
   }
  },
  {
   "cell_type": "markdown",
   "source": [
    "Just like we did for the 1D `Gaussian` fitting examples, we can use the noise-map to compute the normalized residuals\n",
    "and chi-squared map of the lens model."
   ],
   "metadata": {
    "collapsed": false
   }
  },
  {
   "cell_type": "code",
   "execution_count": null,
   "outputs": [],
   "source": [
    "normalized_residual_map = residual_map / noise_map\n",
    "chi_squared_map = (normalized_residual_map) ** 2.0\n",
    "\n",
    "plot_array(\n",
    "    array=normalized_residual_map,\n",
    "    title=\"Normalized Residual Map of fit to SDSSJ2303+1422\",\n",
    ")\n",
    "plot_array(array=chi_squared_map, title=\"Chi Squared Map of fit to SDSSJ2303+1422\")"
   ],
   "metadata": {
    "collapsed": false,
    "pycharm": {
     "name": "#%%\n"
    }
   }
  },
  {
   "cell_type": "markdown",
   "source": [
    "Finally, we can compute the log likelihood of this lens model, which we will use in the next example to fit the lens\n",
    "model to data with a non-linear search."
   ],
   "metadata": {
    "collapsed": false
   }
  },
  {
   "cell_type": "code",
   "execution_count": null,
   "outputs": [],
   "source": [
    "chi_squared = np.sum(chi_squared_map)\n",
    "noise_normalization = np.sum(np.log(2 * np.pi * noise_map ** 2.0))\n",
    "\n",
    "log_likelihood = -0.5 * (chi_squared + noise_normalization)\n",
    "\n",
    "print(log_likelihood)"
   ],
   "metadata": {
    "collapsed": false,
    "pycharm": {
     "name": "#%%\n"
    }
   }
  },
  {
   "cell_type": "markdown",
   "source": [
    "__Wrap Up__\n",
    "\n",
    "In this section, we introduced the astrophysical phenomena of strong gravitational lensing, and gave an overview of how\n",
    "one can create a model for a strong lens system and fit it to imaging data.\n",
    "\n",
    "We ended by defining the log likelihood of the model-fit, which will form the `log_likelihood_function` of the\n",
    "`Analysis` class we use in the next section, which fits this strong lens using **PyAutoFit**.\n",
    "\n",
    "There is one thing you should think about, how would we translate the above classes (e.g. `LightExponential`,\n",
    "`MassIsothermal` and `Galaxy`) using the **PyAutoFit** `Model` and `Collection` objects? The `Galaxy` class contained\n",
    "instances of the light and mass profile classes, meaning the standard use of the `Model` and `Collection` objects could\n",
    "not handle this.\n",
    "\n",
    "This is where multi-level models come in, as will be shown next!"
   ],
   "metadata": {
    "collapsed": false
   }
  },
  {
   "cell_type": "markdown",
   "source": [
    "Section 2: Multi-level Model Fitting\n",
    "====================================\n",
    "\n",
    "We now use the astrophysical phenomena of Strong Gravitational Lensing to illustrate basic and advanced model\n",
    "composition and fitting with **PyAutoFit**.\n",
    "\n",
    "In this section, we use **PyAutoFit**'s multi-level models to compose a strong lens model consisting of a lens and\n",
    "source galaxy, and fit it to the data on SDSSJ2303+1422.\n",
    "\n",
    "__Config Path__\n",
    "\n",
    "We first set up the path to this projects config files, which is located at `autofit_workspace/config`.\n",
    "\n",
    "So far, I have opted not to discuss **PyAutoFit**'s configuration files, which define the default priors of the model\n",
    "components, the default settings of non-linear searches and much more. You may quickly want to checkout the\n",
    "file `autofit_workspace/config/light_profiles.json` to see how default priors are defined."
   ],
   "metadata": {
    "collapsed": false
   }
  },
  {
   "cell_type": "code",
   "execution_count": null,
   "outputs": [],
   "source": [
    "from autoconf import conf\n",
    "\n",
    "cwd = os.getcwd()\n",
    "config_path = path.join(cwd, \"config\")\n",
    "conf.instance.push(new_path=config_path)"
   ],
   "metadata": {
    "collapsed": false,
    "pycharm": {
     "name": "#%%\n"
    }
   }
  },
  {
   "cell_type": "markdown",
   "source": [
    "__Plot__\n",
    "\n",
    "First, lets again define the plotting convenience functions we used in the previous example."
   ],
   "metadata": {
    "collapsed": false
   }
  },
  {
   "cell_type": "code",
   "execution_count": null,
   "outputs": [],
   "source": [
    "\n",
    "\n",
    "def plot_array(array, title=None, norm=None):\n",
    "\n",
    "    plt.imshow(array, norm=norm)\n",
    "    plt.colorbar()\n",
    "    plt.title(title)\n",
    "    plt.show()\n",
    "    plt.close()\n",
    "\n",
    "\n",
    "def plot_grid(grid, title=None):\n",
    "\n",
    "    plt.scatter(x=grid[:, :, 0], y=grid[:, :, 1], s=1)\n",
    "    plt.title(title)\n",
    "    plt.show()\n",
    "    plt.close()\n"
   ],
   "metadata": {
    "collapsed": false,
    "pycharm": {
     "name": "#%%\n"
    }
   }
  },
  {
   "cell_type": "markdown",
   "source": [
    "__Multi-level Model__\n",
    "\n",
    "In the previous section, we saw that we can use instances of the light profiles, mass profiles and galaxy objects to\n",
    "perform strong lens ray-tracing calculations:"
   ],
   "metadata": {
    "collapsed": false
   }
  },
  {
   "cell_type": "code",
   "execution_count": null,
   "outputs": [],
   "source": [
    "light_profile = astro.lp.LightDeVaucouleurs(\n",
    "    centre=(0.01, 0.01), axis_ratio=0.7, angle=45.0, normalization=1.0, radius=2.0\n",
    ")\n",
    "mass_profile = astro.mp.MassIsothermal(\n",
    "    centre=(0.01, 0.01), axis_ratio=0.7, angle=45.0, mass=0.5\n",
    ")\n",
    "galaxy = astro.Galaxy(\n",
    "    redshift=0.5, light_profiles=[light_profile], mass_profiles=[mass_profile]\n",
    ")"
   ],
   "metadata": {
    "collapsed": false,
    "pycharm": {
     "name": "#%%\n"
    }
   }
  },
  {
   "cell_type": "markdown",
   "source": [
    "In this example, we want to perform a model-fit using a non-linear search, where the `Galaxy` is a `Model`, but it\n",
    "contains model subcomponents that are its individual light and mass profiles. Here is a visual representation of\n",
    "the model:\n",
    "\n",
    "![Strong Lens Model](https://github.com/rhayes777/PyAutoFit/blob/master/docs/overview/image/lens_model.png?raw=true \"cluster\")\n",
    "\n",
    "__Model Composition__\n",
    "\n",
    "How do we compose a strong lens model where a `Galaxy` is a `Model`, but it contains the light and mass profiles\n",
    "as `Model` themselves?\n",
    "\n",
    "We use **PyAutoFit**'s multi-level model composition:"
   ],
   "metadata": {
    "collapsed": false
   }
  },
  {
   "cell_type": "code",
   "execution_count": null,
   "outputs": [],
   "source": [
    "lens = af.Model(\n",
    "    cls=astro.Galaxy,  # The overall model object uses this input.\n",
    "    redshift=0.5,\n",
    "    light_profiles=[\n",
    "        af.Model(astro.lp.LightDeVaucouleurs)\n",
    "    ],  # These will be sub-components of the model.\n",
    "    mass_profiles=[\n",
    "        af.Model(astro.mp.MassIsothermal)\n",
    "    ],  # These will be sub-components of the model.\n",
    ")"
   ],
   "metadata": {
    "collapsed": false,
    "pycharm": {
     "name": "#%%\n"
    }
   }
  },
  {
   "cell_type": "markdown",
   "source": [
    "Lets consider what is going on here:\n",
    "\n",
    " 1) We use a `Model` to create the overall model component. The `cls` input is the `Galaxy` class, therefore the\n",
    " overall model that is created is a `Galaxy`.\n",
    "\n",
    " 2) **PyAutoFit** next inspects whether the key word argument inputs to the `Model` match any of the `__init__`\n",
    "constructor arguments of the `Galaxy` class. This determine if these inputs are to be composed as model sub-components\n",
    "of the overall `Galaxy` model.\n",
    "\n",
    " 3) **PyAutoFit** matches the `light_profiles` and `mass_profiles` inputs, noting they are passed as separate lists\n",
    " containing the `LightDeVaucouleurs` and `MassIsothermal` class. They are both created as sub-components of the overall\n",
    " `Galaxy` model.\n",
    "\n",
    " 4) It also matches the `redshift` input, making it a fixed value of 0.5 for the model and not treating it as a\n",
    " free parameter.\n",
    "\n",
    "We can confirm this by printing the `prior_count` of the lens, and noting it is 11 (6 parameters for\n",
    "the `LightDeVaucouleurs` and 5 for the `MassIsothermal`)."
   ],
   "metadata": {
    "collapsed": false
   }
  },
  {
   "cell_type": "code",
   "execution_count": null,
   "outputs": [],
   "source": [
    "print(lens.prior_count)\n",
    "print(lens.light_profiles[0].prior_count)\n",
    "print(lens.mass_profiles[0].prior_count)"
   ],
   "metadata": {
    "collapsed": false,
    "pycharm": {
     "name": "#%%\n"
    }
   }
  },
  {
   "cell_type": "markdown",
   "source": [
    "The `lens` behaves exactly like the model-components we are used to previously. We can use **PyAutoFit**'s model\n",
    "customization tools to:\n",
    "\n",
    " 1) Align the light profile centre and mass profile centre (reducing the number of free parameters by 2).\n",
    " 2) Customize the prior on the light profile `axis_ratio`.\n",
    " 3) Fix the `axis_ratio` of the mass profile to 0.8 (reducing the number of free parameters by 1)."
   ],
   "metadata": {
    "collapsed": false
   }
  },
  {
   "cell_type": "code",
   "execution_count": null,
   "outputs": [],
   "source": [
    "lens.light_profiles[0].centre = lens.mass_profiles[0].centre\n",
    "lens.light_profiles[0].axis_ratio = af.UniformPrior(lower_limit=0.7, upper_limit=0.9)\n",
    "lens.mass_profiles[0].axis_ratio = 0.8\n",
    "\n",
    "print(lens)"
   ],
   "metadata": {
    "collapsed": false,
    "pycharm": {
     "name": "#%%\n"
    }
   }
  },
  {
   "cell_type": "markdown",
   "source": [
    "Note that we do not to explicitly specify that the input are `Model`'s and if we omit them **PyAutoFit** will recognise\n",
    "they are models automatically:"
   ],
   "metadata": {
    "collapsed": false
   }
  },
  {
   "cell_type": "code",
   "execution_count": null,
   "outputs": [],
   "source": [
    "lens = af.Model(\n",
    "    cls=astro.Galaxy,  # The overall model object uses this input.\n",
    "    redshift=0.5,\n",
    "    light_profiles=[\n",
    "        astro.lp.LightDeVaucouleurs\n",
    "    ],  # These will be sub-components of the model.\n",
    "    mass_profiles=[\n",
    "        astro.mp.MassIsothermal\n",
    "    ],  # These will be sub-components of the model.\n",
    ")\n"
   ],
   "metadata": {
    "collapsed": false,
    "pycharm": {
     "name": "#%%\n"
    }
   }
  },
  {
   "cell_type": "markdown",
   "source": [
    "__Alternative API__\n",
    "\n",
    "We can create the `Galaxy` model component with the exact same customization by creating each profile as a `Model` and\n",
    "passing these to the galaxy `Model`."
   ],
   "metadata": {
    "collapsed": false
   }
  },
  {
   "cell_type": "code",
   "execution_count": null,
   "outputs": [],
   "source": [
    "light = af.Model(astro.lp.LightDeVaucouleurs)\n",
    "mass = af.Model(astro.mp.MassIsothermal)\n",
    "\n",
    "light.centre = mass.centre\n",
    "light.axis_ratio = af.UniformPrior(lower_limit=0.7, upper_limit=0.9)\n",
    "mass.axis_ratio = 0.8\n",
    "\n",
    "lens = af.Model(\n",
    "    astro.Galaxy, redshift=0.5, light_profiles=[light], mass_profiles=[mass]\n",
    ")\n",
    "\n",
    "print(lens)"
   ],
   "metadata": {
    "collapsed": false,
    "pycharm": {
     "name": "#%%\n"
    }
   }
  },
  {
   "cell_type": "markdown",
   "source": [
    "Which API is better for creating a model component? It depends on the modeling problem! Therefore having a handle of\n",
    "both methods is useful in different situations.\n",
    "\n",
    "We can now create a model of our source galaxy using the same API."
   ],
   "metadata": {
    "collapsed": false
   }
  },
  {
   "cell_type": "code",
   "execution_count": null,
   "outputs": [],
   "source": [
    "source = af.Model(\n",
    "    astro.Galaxy, redshift=1.0, light_profiles=[astro.lp.LightExponential]\n",
    ")"
   ],
   "metadata": {
    "collapsed": false,
    "pycharm": {
     "name": "#%%\n"
    }
   }
  },
  {
   "cell_type": "markdown",
   "source": [
    "We can now create our overall strong lens model, using a `Collection` in the same way we have seen previously."
   ],
   "metadata": {
    "collapsed": false
   }
  },
  {
   "cell_type": "code",
   "execution_count": null,
   "outputs": [],
   "source": [
    "model = af.Collection(galaxies=af.Collection(lens=lens, source=source))"
   ],
   "metadata": {
    "collapsed": false,
    "pycharm": {
     "name": "#%%\n"
    }
   }
  },
  {
   "cell_type": "markdown",
   "source": [
    "The customization of the model above has reduced the number of free parameters from N=11 to N=8:"
   ],
   "metadata": {
    "collapsed": false
   }
  },
  {
   "cell_type": "code",
   "execution_count": null,
   "outputs": [],
   "source": [
    "print(model.galaxies.lens.prior_count)\n",
    "print(model.galaxies.lens.light_profiles[0].prior_count)\n",
    "print(model.galaxies.lens.mass_profiles[0].prior_count)"
   ],
   "metadata": {
    "collapsed": false,
    "pycharm": {
     "name": "#%%\n"
    }
   }
  },
  {
   "cell_type": "markdown",
   "source": [
    "The model contains both galaxies in the strong lens, alongside all of their light and mass profiles.\n",
    "\n",
    "For every iteration of the non-linear search **PyAutoFit** generates an instance of this model, where all of the\n",
    "`LightDeVaucouleurs`, `MassIsothermal` and `Galaxy` parameters of the are determined via their priors.\n",
    "\n",
    "An example instance is show below:"
   ],
   "metadata": {
    "collapsed": false
   }
  },
  {
   "cell_type": "code",
   "execution_count": null,
   "outputs": [],
   "source": [
    "instance = model.instance_from_prior_medians()\n",
    "\n",
    "print(\"Strong Lens Model Instance:\")\n",
    "print(\"Lens Galaxy = \", instance.galaxies.lens)\n",
    "print(\"Lens Galaxy Light = \", instance.galaxies.lens.light_profiles)\n",
    "print(\"Lens Galaxy Light Centre = \", instance.galaxies.lens.light_profiles[0].centre)\n",
    "print(\"Lens Galaxy Mass Centre = \", instance.galaxies.lens.mass_profiles[0].centre)\n",
    "print(\"Source Galaxy = \", instance.galaxies.source)"
   ],
   "metadata": {
    "collapsed": false,
    "pycharm": {
     "name": "#%%\n"
    }
   }
  },
  {
   "cell_type": "markdown",
   "source": [
    "We have successfully composed a multi-level model, which we can fit via a non-linear search.\n",
    "\n",
    "At this point, you should check out the `Analysis` class of this example project, in the\n",
    "module `projects/astro/src/analysis.py`. This class serves the same purpose that we have seen in the Gaussian 1D\n",
    "examples, with the `log_likelihood_function` implementing the calculation we showed in the first tutorial."
   ],
   "metadata": {
    "collapsed": false
   }
  },
  {
   "cell_type": "code",
   "execution_count": null,
   "outputs": [],
   "source": [
    "\n",
    "search = af.DynestyStatic(\n",
    "    path_prefix=path.join(\"projects\", \"astro\"), name=\"multi_level\", nlive=50\n",
    ")\n",
    "\n",
    "analysis = astro.Analysis(image=image, noise_map=noise_map, grid=grid)"
   ],
   "metadata": {
    "collapsed": false,
    "pycharm": {
     "name": "#%%\n"
    }
   }
  },
  {
   "cell_type": "markdown",
   "source": [
    "If you comment out the code below, you will perform a lens model fit using the model and analysis class for\n",
    "this project. However, this model-fit is slow to run, and it isn't paramount that you run it yourself.\n",
    "\n",
    "The animation below shows a slide-show of the lens modeling procedure. Many lens models are fitted to the data over\n",
    "and over, gradually improving the quality of the fit to the data and looking more and more like the observed image.\n",
    "\n",
    "![Lens Modeling Animation](https://github.com/Jammy2211/auto_files/blob/main/lensmodel.gif?raw=true \"model\")"
   ],
   "metadata": {
    "collapsed": false
   }
  },
  {
   "cell_type": "code",
   "execution_count": null,
   "outputs": [],
   "source": [
    "\n",
    "# result = search.fit(model=model, analysis=analysis)"
   ],
   "metadata": {
    "collapsed": false,
    "pycharm": {
     "name": "#%%\n"
    }
   }
  },
  {
   "cell_type": "markdown",
   "source": [
    "__Section 3: Extensibility__\n",
    "\n",
    "This example project highlights how multi-level models can make certain model-fitting problem fully extensible. For\n",
    "example:\n",
    "\n",
    " 1) A `Galaxy` class can be created using any combination of light and mass profiles, because it can wrap their\n",
    " `image_from_grid` and `deflections_from_grid` methods as the sum of the individual profiles.\n",
    "\n",
    " 2) The overall strong lens model can contain any number of `Galaxy`'s, as these methods and their redshifts are used\n",
    " to implement the lensing calculations in the `Analysis` class and `log_likelihood_function`.\n",
    "\n",
    "Thus, for problems of this nature, we can design and write code in a way that fully utilizes **PyAutoFit**'s\n",
    "multi-level modeling features to compose and fits models of arbitrary complexity and dimensionality.\n",
    "\n",
    "__PyAutoLens Example__\n",
    "\n",
    "At this point, you may wish to look at the following modules from the project **PyAutoLens**, which is the astronomy\n",
    "software which sparked the development of **PyAutoFit**. These modules will clearly illustrate how\n",
    "using **PyAutoFit**'s multi-level model composiiton tools, we were able to make a fully extensible code\n",
    "base that allows many different light profiles, mass profiles and galaxy models to be fitted:\n",
    "\n",
    "(These modules are actually in **PyAutoLens**'s parent project, **PyAutoGalaxy**).\n",
    "\n",
    "https://github.com/Jammy2211/PyAutoGalaxy/blob/master/autogalaxy/profiles/light_profiles.py\n",
    "\n",
    "https://github.com/Jammy2211/PyAutoGalaxy/blob/master/autogalaxy/profiles/mass_profiles/total_mass_profiles.py\n",
    "\n",
    "https://github.com/Jammy2211/PyAutoGalaxy/blob/master/autogalaxy/galaxy/galaxy.py\n",
    "\n",
    "__Galaxy Clusters__\n",
    "\n",
    "To illustrate this further, consider the following dataset which is called a *strong lens galaxy cluster*:\n",
    "\n",
    "![Strong Lens Cluster](https://github.com/rhayes777/PyAutoFit/blob/master/docs/overview/image/cluster_example.jpg?raw=true \"cluster\")\n",
    "\n",
    "For this strong lens, there are many tens of strong lens galaxies as well as multiple background source galaxies.\n",
    "However, despite it being a significantly more complex system than the single-galaxy strong lens we modeled above,\n",
    "our use of multi-level models ensures that we can model such datasets without any additional code development, for\n",
    "example:"
   ],
   "metadata": {
    "collapsed": false
   }
  },
  {
   "cell_type": "code",
   "execution_count": null,
   "outputs": [],
   "source": [
    "lens_0 = af.Model(\n",
    "    astro.Galaxy,\n",
    "    redshift=0.5,\n",
    "    light_profiles=[astro.lp.LightDeVaucouleurs, astro.lp.LightExponential],\n",
    "    mass_profiles=[astro.mp.MassIsothermal, astro.mp.MassIsothermal],\n",
    ")\n",
    "\n",
    "lens_1 = af.Model(\n",
    "    astro.Galaxy,\n",
    "    redshift=0.5,\n",
    "    light_profiles=[astro.lp.LightDeVaucouleurs],\n",
    "    mass_profiles=[astro.mp.MassIsothermal],\n",
    ")\n",
    "\n",
    "source_0 = af.Model(\n",
    "    astro.Galaxy, redshift=1.0, light_profiles=[af.Model(astro.lp.LightExponential)]\n",
    ")\n",
    "\n",
    "# ... repeat for desired model complexity ...\n",
    "\n",
    "model = af.Collection(\n",
    "    galaxies=af.Collection(\n",
    "        lens_0=lens_0,\n",
    "        lens_1=lens_1,\n",
    "        source_0=source_0,\n",
    "        # ... repeat for desired model complexity ...\n",
    "    )\n",
    ")"
   ],
   "metadata": {
    "collapsed": false,
    "pycharm": {
     "name": "#%%\n"
    }
   }
  },
  {
   "cell_type": "markdown",
   "source": [
    "Here is a visual representation of a strong lens cluster as a multi-level model:\n",
    "\n",
    "![Strong Lens Cluster Model](https://github.com/rhayes777/PyAutoFit/blob/master/docs/overview/image/lens_model_cluster.png?raw=true \"cluster\")\n",
    "\n",
    "__Wrap Up__\n",
    "\n",
    "Strong gravitational lensing is a great example of a problem that can be approached using multi-level models.\n",
    "\n",
    "At the core of this is how there are many different models one could imagine defining which describe the light or mass\n",
    "of a galaxy. However, all of these models must derive the same fundamental property in order to fit the data, for\n",
    "example the image of a light profile or the deflection angles of the mass profile.\n",
    "\n",
    "The multi-level nature of strong lensing is not unique, and is commonly found in my Astronomy problems and the\n",
    "scientific literature in general. For example Astronomy problems:\n",
    "\n",
    " - Studies of galaxy structure, which represent the surface brightness distributions of galaxies as sums of Sersic\n",
    " profiles (or other parametric equations) to quantify whether they are bulge-like or disk-like.\n",
    "\n",
    " - Studies of galaxy dynamics, which represent the mass distribution of galaxies as sums of profiles like the Isothermal\n",
    " profile.\n",
    "\n",
    " - Studies of the activate galactic nuclei (AGN) of galaxies, where the different components of the AGN are represented\n",
    " as different model components.\n",
    "\n",
    "\n",
    "\n",
    "\n"
   ],
   "metadata": {
    "collapsed": false,
    "pycharm": {
     "name": "#%% md\n"
    }
   }
  }
 ],
 "metadata": {
  "kernelspec": {
   "display_name": "Python 3",
   "language": "python",
   "name": "python3"
  },
  "language_info": {
   "codemirror_mode": {
    "name": "ipython",
    "version": 2
   },
   "file_extension": ".py",
   "mimetype": "text/x-python",
   "name": "python",
   "nbconvert_exporter": "python",
   "pygments_lexer": "ipython2",
   "version": "2.7.6"
  }
 },
 "nbformat": 4,
 "nbformat_minor": 0
}